{
  "nbformat": 4,
  "nbformat_minor": 0,
  "metadata": {
    "colab": {
      "name": "KNNanomaly.ipynb",
      "provenance": [],
      "collapsed_sections": []
    },
    "kernelspec": {
      "name": "python3",
      "display_name": "Python 3"
    },
    "language_info": {
      "name": "python"
    }
  },
  "cells": [
    {
      "cell_type": "code",
      "execution_count": null,
      "metadata": {
        "id": "Fb_AtQTsfuMt"
      },
      "outputs": [],
      "source": [
        "# import libraries\n",
        "import pandas as pd\n",
        "import numpy as np\n",
        "import matplotlib.pyplot as plt\n",
        "from sklearn.neighbors import NearestNeighbors"
      ]
    },
    {
      "cell_type": "code",
      "source": [
        "from google.colab import drive\n",
        "drive.mount('/gdrive')"
      ],
      "metadata": {
        "colab": {
          "base_uri": "https://localhost:8080/"
        },
        "id": "PqqjQrDQkWAd",
        "outputId": "95b01dde-b6a4-4cc1-cf37-9ba34e88c61b"
      },
      "execution_count": null,
      "outputs": [
        {
          "output_type": "stream",
          "name": "stdout",
          "text": [
            "Mounted at /gdrive\n"
          ]
        }
      ]
    },
    {
      "cell_type": "code",
      "source": [
        "# import data\n",
        "data = pd.read_csv(\"data.csv\")\n",
        "#data from Zenti code (log differences and differences...)"
      ],
      "metadata": {
        "id": "eXwwmvA-fybf"
      },
      "execution_count": null,
      "outputs": []
    },
    {
      "cell_type": "code",
      "source": [
        "X = data.values"
      ],
      "metadata": {
        "id": "kVGDq-1Oljkd"
      },
      "execution_count": null,
      "outputs": []
    },
    {
      "cell_type": "code",
      "source": [
        "# instantiate model\n",
        "nbrs = NearestNeighbors(n_neighbors = 3)\n",
        "# fit model\n",
        "nbrs.fit(X)"
      ],
      "metadata": {
        "colab": {
          "base_uri": "https://localhost:8080/"
        },
        "id": "5WBTo5QnmCp1",
        "outputId": "e45a26e9-f37b-4a11-97ad-a3967076221c"
      },
      "execution_count": null,
      "outputs": [
        {
          "output_type": "execute_result",
          "data": {
            "text/plain": [
              "NearestNeighbors(n_neighbors=3)"
            ]
          },
          "metadata": {},
          "execution_count": 6
        }
      ]
    },
    {
      "cell_type": "code",
      "source": [
        "# distances and indexes of k-neaighbors from model outputs\n",
        "distances, indexes = nbrs.kneighbors(X)\n",
        "# plot mean of k-distances of each observation\n",
        "plt.plot(distances.mean(axis =1))"
      ],
      "metadata": {
        "colab": {
          "base_uri": "https://localhost:8080/",
          "height": 282
        },
        "id": "Luct-dw5n2YC",
        "outputId": "50dcb855-9dd8-4209-98ab-1172bec0d1f4"
      },
      "execution_count": null,
      "outputs": [
        {
          "output_type": "execute_result",
          "data": {
            "text/plain": [
              "[<matplotlib.lines.Line2D at 0x7fdbe51a0050>]"
            ]
          },
          "metadata": {},
          "execution_count": 7
        },
        {
          "output_type": "display_data",
          "data": {
            "text/plain": [
              "<Figure size 432x288 with 1 Axes>"
            ],
            "image/png": "[encoded data removed]"
          },
          "metadata": {
            "needs_background": "light"
          }
        }
      ]
    },
    {
      "cell_type": "code",
      "source": [
        "# visually determine cutoff values > 0.25\n",
        "outlier_index = np.where(distances.mean(axis = 1) > 0.25)\n",
        "outlier_index"
      ],
      "metadata": {
        "colab": {
          "base_uri": "https://localhost:8080/"
        },
        "id": "yebX-t0eoUS_",
        "outputId": "bf4adeb5-721e-4085-df4c-61c51408e540"
      },
      "execution_count": null,
      "outputs": [
        {
          "output_type": "execute_result",
          "data": {
            "text/plain": [
              "(array([   0,    1,    3,    7,    8,   10,   14,   15,   17,   19,   34,\n",
              "          36,   45,   49,   50,   58,   61,   62,   64,   65,   66,   68,\n",
              "          75,   76,   85,   86,   87,   88,   91,   92,   93,   95,   98,\n",
              "         101,  103,  107,  111,  129,  130,  131,  136,  139,  142,  144,\n",
              "         146,  161,  164,  178,  180,  184,  186,  187,  188,  193,  199,\n",
              "         200,  201,  205,  215,  224,  307,  333,  334,  370,  373,  386,\n",
              "         394,  395,  396,  397,  398,  399,  400,  402,  403,  404,  408,\n",
              "         410,  412,  413,  414,  415,  416,  417,  418,  420,  423,  424,\n",
              "         425,  426,  430,  431,  433,  434,  437,  441,  442,  443,  450,\n",
              "         451,  452,  453,  454,  455,  456,  457,  458,  459,  460,  461,\n",
              "         462,  463,  464,  465,  466,  467,  468,  469,  470,  471,  472,\n",
              "         473,  475,  476,  477,  478,  480,  483,  485,  487,  488,  489,\n",
              "         490,  492,  498,  512,  537,  539,  563,  564,  566,  567,  572,\n",
              "         574,  575,  576,  577,  578,  580,  581,  585,  586,  589,  596,\n",
              "         598,  599,  600,  601,  602,  606,  608,  610,  611,  614,  615,\n",
              "         617,  618,  619,  620,  621,  623,  624,  625,  628,  631,  632,\n",
              "         633,  634,  637,  644,  646,  649,  650,  651,  652,  653,  654,\n",
              "         658,  659,  673,  700,  701,  777,  778,  783,  789,  791,  797,\n",
              "         803,  805,  807,  813,  841,  857,  868,  875,  877,  900,  941,\n",
              "         957,  958,  975,  983, 1019, 1024, 1029, 1044, 1048, 1049, 1050,\n",
              "        1051, 1052, 1053, 1055, 1056, 1057, 1058, 1064, 1065, 1085]),)"
            ]
          },
          "metadata": {},
          "execution_count": 15
        }
      ]
    },
    {
      "cell_type": "code",
      "source": [
        "len(outlier_index[0])"
      ],
      "metadata": {
        "id": "0NKUHVA6oTIY",
        "colab": {
          "base_uri": "https://localhost:8080/"
        },
        "outputId": "f29fb263-fc2e-4b81-ac8b-8adc038457e5"
      },
      "execution_count": null,
      "outputs": [
        {
          "output_type": "execute_result",
          "data": {
            "text/plain": [
              "230"
            ]
          },
          "metadata": {},
          "execution_count": 17
        }
      ]
    }
  ]
}